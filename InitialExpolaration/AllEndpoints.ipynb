{
 "cells": [
  {
   "cell_type": "code",
   "execution_count": 1,
   "metadata": {},
   "outputs": [],
   "source": [
    "import pandas as pd\n",
    "import numpy as np\n",
    "import quiverquant as qq"
   ]
  },
  {
   "cell_type": "code",
   "execution_count": 2,
   "metadata": {},
   "outputs": [],
   "source": [
    "token = 'ae7272b6f0ef826789d145ccba3004b2e2e00720'\n",
    "quiver = qq.quiver(token)"
   ]
  },
  {
   "cell_type": "code",
   "execution_count": 33,
   "metadata": {},
   "outputs": [],
   "source": [
    "contracts_df = quiver.gov_contracts()"
   ]
  },
  {
   "cell_type": "code",
   "execution_count": 34,
   "metadata": {},
   "outputs": [],
   "source": [
    "contracts_ticker_cts = contracts_df['Ticker'].value_counts()"
   ]
  },
  {
   "cell_type": "code",
   "execution_count": 35,
   "metadata": {},
   "outputs": [
    {
     "name": "stdout",
     "output_type": "stream",
     "text": [
      "DNOW    5030\n",
      "GM      3420\n",
      "F       1659\n",
      "MCK      889\n",
      "ECL      485\n",
      "        ... \n",
      "MVLA       1\n",
      "AMGN       1\n",
      "CVX        1\n",
      "DXR        1\n",
      "NCMI       1\n",
      "Name: Ticker, Length: 448, dtype: int64\n"
     ]
    }
   ],
   "source": [
    "print(contracts_ticker_cts)"
   ]
  },
  {
   "cell_type": "code",
   "execution_count": 15,
   "metadata": {},
   "outputs": [
    {
     "name": "stdout",
     "output_type": "stream",
     "text": [
      "https://api.quiverquant.com/beta/live/congresstrading\n"
     ]
    }
   ],
   "source": [
    "congress_df = quiver.congress_trading()"
   ]
  },
  {
   "cell_type": "code",
   "execution_count": 18,
   "metadata": {},
   "outputs": [
    {
     "data": {
      "text/html": [
       "<div>\n",
       "<style scoped>\n",
       "    .dataframe tbody tr th:only-of-type {\n",
       "        vertical-align: middle;\n",
       "    }\n",
       "\n",
       "    .dataframe tbody tr th {\n",
       "        vertical-align: top;\n",
       "    }\n",
       "\n",
       "    .dataframe thead th {\n",
       "        text-align: right;\n",
       "    }\n",
       "</style>\n",
       "<table border=\"1\" class=\"dataframe\">\n",
       "  <thead>\n",
       "    <tr style=\"text-align: right;\">\n",
       "      <th></th>\n",
       "      <th>Representative</th>\n",
       "      <th>ReportDate</th>\n",
       "      <th>TransactionDate</th>\n",
       "      <th>Ticker</th>\n",
       "      <th>Transaction</th>\n",
       "      <th>Range</th>\n",
       "      <th>House</th>\n",
       "      <th>Amount</th>\n",
       "      <th>Party</th>\n",
       "    </tr>\n",
       "  </thead>\n",
       "  <tbody>\n",
       "    <tr>\n",
       "      <th>0</th>\n",
       "      <td>Josh Gottheimer</td>\n",
       "      <td>2023-10-15</td>\n",
       "      <td>2023-09-26</td>\n",
       "      <td>TGT</td>\n",
       "      <td>Sale</td>\n",
       "      <td>$1,001-$15,000</td>\n",
       "      <td>Representatives</td>\n",
       "      <td>1001.0</td>\n",
       "      <td>D</td>\n",
       "    </tr>\n",
       "    <tr>\n",
       "      <th>1</th>\n",
       "      <td>Josh Gottheimer</td>\n",
       "      <td>2023-10-15</td>\n",
       "      <td>2023-09-26</td>\n",
       "      <td>AAPL</td>\n",
       "      <td>Sale</td>\n",
       "      <td>$1,001-$15,000</td>\n",
       "      <td>Representatives</td>\n",
       "      <td>1001.0</td>\n",
       "      <td>D</td>\n",
       "    </tr>\n",
       "    <tr>\n",
       "      <th>2</th>\n",
       "      <td>Josh Gottheimer</td>\n",
       "      <td>2023-10-15</td>\n",
       "      <td>2023-09-26</td>\n",
       "      <td>NOC</td>\n",
       "      <td>Purchase</td>\n",
       "      <td>$1,001-$15,000</td>\n",
       "      <td>Representatives</td>\n",
       "      <td>1001.0</td>\n",
       "      <td>D</td>\n",
       "    </tr>\n",
       "    <tr>\n",
       "      <th>3</th>\n",
       "      <td>Josh Gottheimer</td>\n",
       "      <td>2023-10-15</td>\n",
       "      <td>2023-09-22</td>\n",
       "      <td>TSLA</td>\n",
       "      <td>Purchase</td>\n",
       "      <td>$1,001-$15,000</td>\n",
       "      <td>Representatives</td>\n",
       "      <td>1001.0</td>\n",
       "      <td>D</td>\n",
       "    </tr>\n",
       "    <tr>\n",
       "      <th>4</th>\n",
       "      <td>Josh Gottheimer</td>\n",
       "      <td>2023-10-15</td>\n",
       "      <td>2023-09-22</td>\n",
       "      <td>AVGO</td>\n",
       "      <td>Purchase</td>\n",
       "      <td>$1,001-$15,000</td>\n",
       "      <td>Representatives</td>\n",
       "      <td>1001.0</td>\n",
       "      <td>D</td>\n",
       "    </tr>\n",
       "    <tr>\n",
       "      <th>...</th>\n",
       "      <td>...</td>\n",
       "      <td>...</td>\n",
       "      <td>...</td>\n",
       "      <td>...</td>\n",
       "      <td>...</td>\n",
       "      <td>...</td>\n",
       "      <td>...</td>\n",
       "      <td>...</td>\n",
       "      <td>...</td>\n",
       "    </tr>\n",
       "    <tr>\n",
       "      <th>995</th>\n",
       "      <td>John Hickenlooper</td>\n",
       "      <td>2022-11-29</td>\n",
       "      <td>2022-11-21</td>\n",
       "      <td>BATRA</td>\n",
       "      <td>Purchase</td>\n",
       "      <td>$1,001 - $15,000</td>\n",
       "      <td>Senate</td>\n",
       "      <td>1001.0</td>\n",
       "      <td>D</td>\n",
       "    </tr>\n",
       "    <tr>\n",
       "      <th>996</th>\n",
       "      <td>John Hickenlooper</td>\n",
       "      <td>2022-11-29</td>\n",
       "      <td>2022-11-21</td>\n",
       "      <td>BATRK</td>\n",
       "      <td>Sale</td>\n",
       "      <td>$15,001 - $50,000</td>\n",
       "      <td>Senate</td>\n",
       "      <td>15001.0</td>\n",
       "      <td>D</td>\n",
       "    </tr>\n",
       "    <tr>\n",
       "      <th>997</th>\n",
       "      <td>John Hickenlooper</td>\n",
       "      <td>2022-11-29</td>\n",
       "      <td>2022-11-21</td>\n",
       "      <td>BATRK</td>\n",
       "      <td>Purchase</td>\n",
       "      <td>$1,001 - $15,000</td>\n",
       "      <td>Senate</td>\n",
       "      <td>1001.0</td>\n",
       "      <td>D</td>\n",
       "    </tr>\n",
       "    <tr>\n",
       "      <th>998</th>\n",
       "      <td>John Hickenlooper</td>\n",
       "      <td>2022-11-29</td>\n",
       "      <td>2022-11-14</td>\n",
       "      <td>LBRDA</td>\n",
       "      <td>Sale</td>\n",
       "      <td>$50,001 - $100,000</td>\n",
       "      <td>Senate</td>\n",
       "      <td>50001.0</td>\n",
       "      <td>D</td>\n",
       "    </tr>\n",
       "    <tr>\n",
       "      <th>999</th>\n",
       "      <td>John Hickenlooper</td>\n",
       "      <td>2022-11-29</td>\n",
       "      <td>2022-11-14</td>\n",
       "      <td>LBRDA</td>\n",
       "      <td>Purchase</td>\n",
       "      <td>$15,001 - $50,000</td>\n",
       "      <td>Senate</td>\n",
       "      <td>15001.0</td>\n",
       "      <td>D</td>\n",
       "    </tr>\n",
       "  </tbody>\n",
       "</table>\n",
       "<p>1000 rows × 9 columns</p>\n",
       "</div>"
      ],
      "text/plain": [
       "        Representative ReportDate TransactionDate Ticker Transaction  \\\n",
       "0      Josh Gottheimer 2023-10-15      2023-09-26    TGT        Sale   \n",
       "1      Josh Gottheimer 2023-10-15      2023-09-26   AAPL        Sale   \n",
       "2      Josh Gottheimer 2023-10-15      2023-09-26    NOC    Purchase   \n",
       "3      Josh Gottheimer 2023-10-15      2023-09-22   TSLA    Purchase   \n",
       "4      Josh Gottheimer 2023-10-15      2023-09-22   AVGO    Purchase   \n",
       "..                 ...        ...             ...    ...         ...   \n",
       "995  John Hickenlooper 2022-11-29      2022-11-21  BATRA    Purchase   \n",
       "996  John Hickenlooper 2022-11-29      2022-11-21  BATRK        Sale   \n",
       "997  John Hickenlooper 2022-11-29      2022-11-21  BATRK    Purchase   \n",
       "998  John Hickenlooper 2022-11-29      2022-11-14  LBRDA        Sale   \n",
       "999  John Hickenlooper 2022-11-29      2022-11-14  LBRDA    Purchase   \n",
       "\n",
       "                  Range            House   Amount Party  \n",
       "0        $1,001-$15,000  Representatives   1001.0     D  \n",
       "1        $1,001-$15,000  Representatives   1001.0     D  \n",
       "2        $1,001-$15,000  Representatives   1001.0     D  \n",
       "3        $1,001-$15,000  Representatives   1001.0     D  \n",
       "4        $1,001-$15,000  Representatives   1001.0     D  \n",
       "..                  ...              ...      ...   ...  \n",
       "995    $1,001 - $15,000           Senate   1001.0     D  \n",
       "996   $15,001 - $50,000           Senate  15001.0     D  \n",
       "997    $1,001 - $15,000           Senate   1001.0     D  \n",
       "998  $50,001 - $100,000           Senate  50001.0     D  \n",
       "999   $15,001 - $50,000           Senate  15001.0     D  \n",
       "\n",
       "[1000 rows x 9 columns]"
      ]
     },
     "execution_count": 18,
     "metadata": {},
     "output_type": "execute_result"
    }
   ],
   "source": [
    "congress_df"
   ]
  },
  {
   "cell_type": "code",
   "execution_count": 27,
   "metadata": {},
   "outputs": [
    {
     "name": "stdout",
     "output_type": "stream",
     "text": [
      "CLF     34\n",
      "PYPL    23\n",
      "X       22\n",
      "MSFT    18\n",
      "NVDA    13\n",
      "        ..\n",
      "AVY      1\n",
      "MKL      1\n",
      "SWX      1\n",
      "TSCO     1\n",
      "ARLP     1\n",
      "Name: Ticker, Length: 493, dtype: int64\n"
     ]
    }
   ],
   "source": [
    "congress_ticker_cts = congress_df['Ticker'].value_counts()\n",
    "print(congress_ticker_cts)"
   ]
  },
  {
   "cell_type": "code",
   "execution_count": 36,
   "metadata": {},
   "outputs": [
    {
     "name": "stdout",
     "output_type": "stream",
     "text": [
      "Index(['F', 'MCK', 'T', 'EW', 'UPS', 'SO', 'ABT', 'GD', 'BAH', 'SYK', 'IT',\n",
      "       'BRKR', 'BIO', 'GE', 'HOLX', 'SNAP', 'CMCSA', 'BSX', 'ACN', 'CAT',\n",
      "       'RTX', 'SYY', 'MSFT', 'SAIC', 'IBM', 'AORT', 'IRM', 'CMI', 'KEYS',\n",
      "       'MMM', 'URI', 'AZTA', 'ISRG', 'HD', 'NOC', 'MOS', 'TMO', 'FDX', 'SHW',\n",
      "       'JNJ', 'EFX', 'ITW', 'GNTX', 'AXP', 'ETR', 'EXAS', 'WM', 'MCO', 'ORCL',\n",
      "       'PFE', 'ABBV', 'WBA', 'BMO', 'QCOM', 'DUK', 'AAPL', 'APH', 'EVBG',\n",
      "       'BMY', 'DAR', 'MRNA', 'ZTS', 'VCYT', 'UNP', 'ADBE', 'UBER', 'ADI',\n",
      "       'HSY', 'PTON', 'ROK', 'ES', 'DIOD', 'MKSI', 'VIAV', 'MRK', 'GRMN',\n",
      "       'AVY', 'VZ', 'AKAM', 'GILD', 'BXP', 'DVA', 'CSCO', 'NDSN', 'AMGN',\n",
      "       'CVX'],\n",
      "      dtype='object')\n"
     ]
    }
   ],
   "source": [
    "common_values = contracts_ticker_cts.index.intersection(congress_ticker_cts.index)\n",
    "print(common_values)"
   ]
  },
  {
   "cell_type": "code",
   "execution_count": 37,
   "metadata": {},
   "outputs": [
    {
     "data": {
      "text/plain": [
       "(86,)"
      ]
     },
     "execution_count": 37,
     "metadata": {},
     "output_type": "execute_result"
    }
   ],
   "source": [
    "common_values.shape"
   ]
  },
  {
   "cell_type": "code",
   "execution_count": 38,
   "metadata": {},
   "outputs": [],
   "source": [
    "house_df = quiver.house_trading()"
   ]
  },
  {
   "cell_type": "code",
   "execution_count": 39,
   "metadata": {},
   "outputs": [
    {
     "name": "stdout",
     "output_type": "stream",
     "text": [
      "MSFT     63\n",
      "AAPL     58\n",
      "NVDA     51\n",
      "JNJ      42\n",
      "TSLA     41\n",
      "         ..\n",
      "VWAGY     1\n",
      "ALIZY     1\n",
      "ARGX      1\n",
      "CGEMY     1\n",
      "BNS       1\n",
      "Name: Ticker, Length: 1369, dtype: int64\n"
     ]
    }
   ],
   "source": [
    "house_ticker_cts = house_df['Ticker'].value_counts()\n",
    "print(house_ticker_cts)"
   ]
  },
  {
   "cell_type": "code",
   "execution_count": 40,
   "metadata": {},
   "outputs": [
    {
     "name": "stdout",
     "output_type": "stream",
     "text": [
      "SO       453\n",
      "CMCSA    246\n",
      "INTC     238\n",
      "TMUS     181\n",
      "MO       160\n",
      "        ... \n",
      "LEN.B      1\n",
      "YRCW       1\n",
      "UTX        1\n",
      "VCRA       1\n",
      "MDLA       1\n",
      "Name: Ticker, Length: 1245, dtype: int64\n"
     ]
    }
   ],
   "source": [
    "lobby_df = quiver.lobbying()\n",
    "lobby_ticker_cts = lobby_df['Ticker'].value_counts()\n",
    "print(lobby_ticker_cts)"
   ]
  },
  {
   "cell_type": "code",
   "execution_count": 41,
   "metadata": {},
   "outputs": [
    {
     "name": "stdout",
     "output_type": "stream",
     "text": [
      "SQQQ    1\n",
      "WSR     1\n",
      "LTRX    1\n",
      "CIF     1\n",
      "REVG    1\n",
      "       ..\n",
      "EVH     1\n",
      "PTCT    1\n",
      "MCK     1\n",
      "MFA     1\n",
      "MAYS    1\n",
      "Name: Ticker, Length: 4276, dtype: int64\n"
     ]
    }
   ],
   "source": [
    "offex_df = quiver.offexchange()\n",
    "offex_ticker_cts = offex_df['Ticker'].value_counts()\n",
    "print(offex_ticker_cts)"
   ]
  },
  {
   "cell_type": "code",
   "execution_count": 42,
   "metadata": {},
   "outputs": [
    {
     "name": "stdout",
     "output_type": "stream",
     "text": [
      "Index(['SO', 'CMCSA', 'INTC', 'TMUS', 'MO', 'ORCL', 'VZ', 'MSFT', 'META',\n",
      "       'GOOGL',\n",
      "       ...\n",
      "       'VTNR', 'COHR', 'YOU', 'BHP', 'BUD', 'SDC', 'TTE', 'UL', 'RBC', 'TAK'],\n",
      "      dtype='object', length=448)\n"
     ]
    }
   ],
   "source": [
    "lobby_house_common = lobby_ticker_cts.index.intersection(house_ticker_cts.index)\n",
    "print(lobby_house_common)"
   ]
  },
  {
   "cell_type": "code",
   "execution_count": 43,
   "metadata": {},
   "outputs": [
    {
     "name": "stdout",
     "output_type": "stream",
     "text": [
      "AAPL    1\n",
      "DFIN    1\n",
      "GP      1\n",
      "EHTH    1\n",
      "PFSW    1\n",
      "       ..\n",
      "BYD     1\n",
      "CCEP    1\n",
      "HUBB    1\n",
      "UNFI    1\n",
      "TRV     1\n",
      "Name: Ticker, Length: 2413, dtype: int64\n"
     ]
    }
   ],
   "source": [
    "wiki_df = quiver.wikipedia()\n",
    "wiki_ticker_cts = wiki_df['Ticker'].value_counts()\n",
    "print(wiki_ticker_cts)"
   ]
  },
  {
   "cell_type": "code",
   "execution_count": 44,
   "metadata": {},
   "outputs": [
    {
     "name": "stdout",
     "output_type": "stream",
     "text": [
      "NYT     1\n",
      "JBGS    1\n",
      "COCP    1\n",
      "BLMN    1\n",
      "NXTP    1\n",
      "       ..\n",
      "PSN     1\n",
      "FCN     1\n",
      "GETR    1\n",
      "GROW    1\n",
      "KOSS    1\n",
      "Name: Ticker, Length: 1720, dtype: int64\n"
     ]
    }
   ],
   "source": [
    "twit_df = quiver.twitter()\n",
    "twit_ticker_cts = twit_df['Ticker'].value_counts()\n",
    "print(twit_ticker_cts)"
   ]
  },
  {
   "cell_type": "code",
   "execution_count": 45,
   "metadata": {},
   "outputs": [
    {
     "name": "stdout",
     "output_type": "stream",
     "text": [
      "Index(['AAPL', 'EHTH', 'KWR', 'RYAM', 'ILMN', 'NWBI', 'ADP', 'CCLD', 'TZOO',\n",
      "       'OSPN',\n",
      "       ...\n",
      "       'GOEV', 'TORO', 'THO', 'KODK', 'TLRY', 'EVER', 'GTX', 'MGPI', 'BYD',\n",
      "       'HUBB'],\n",
      "      dtype='object', length=1097)\n"
     ]
    }
   ],
   "source": [
    "wiki_twit_common = wiki_ticker_cts.index.intersection(twit_ticker_cts.index)\n",
    "print(wiki_twit_common)"
   ]
  },
  {
   "cell_type": "code",
   "execution_count": null,
   "metadata": {},
   "outputs": [],
   "source": []
  },
  {
   "cell_type": "code",
   "execution_count": 46,
   "metadata": {},
   "outputs": [],
   "source": [
    "spac_df = quiver.spacs()"
   ]
  },
  {
   "cell_type": "code",
   "execution_count": 14,
   "metadata": {},
   "outputs": [
    {
     "name": "stdout",
     "output_type": "stream",
     "text": [
      "Pulling data from:  https://api.quiverquant.com/beta/live/sec13fchanges\n"
     ]
    },
    {
     "ename": "ValueError",
     "evalue": "non convertible value 2023-09-30T00:00:00.000 with the unit 'ms'",
     "output_type": "error",
     "traceback": [
      "\u001b[0;31m---------------------------------------------------------------------------\u001b[0m",
      "\u001b[0;31mValueError\u001b[0m                                Traceback (most recent call last)",
      "\u001b[0;32m/opt/anaconda3/lib/python3.9/site-packages/pandas/_libs/tslib.pyx\u001b[0m in \u001b[0;36mpandas._libs.tslib.array_with_unit_to_datetime\u001b[0;34m()\u001b[0m\n",
      "\u001b[0;31mValueError\u001b[0m: could not convert string to float: '2023-09-30T00:00:00.000'",
      "\nDuring handling of the above exception, another exception occurred:\n",
      "\u001b[0;31mValueError\u001b[0m                                Traceback (most recent call last)",
      "\u001b[0;32m/var/folders/7k/6nbtrgkx3g56v2743d5zs9q00000gn/T/ipykernel_2320/3412765357.py\u001b[0m in \u001b[0;36m<module>\u001b[0;34m\u001b[0m\n\u001b[0;32m----> 1\u001b[0;31m \u001b[0mquiver\u001b[0m\u001b[0;34m.\u001b[0m\u001b[0msec13FChanges\u001b[0m\u001b[0;34m(\u001b[0m\u001b[0;34m)\u001b[0m\u001b[0;34m\u001b[0m\u001b[0;34m\u001b[0m\u001b[0m\n\u001b[0m",
      "\u001b[0;32m/opt/anaconda3/lib/python3.9/site-packages/quiverquant.py\u001b[0m in \u001b[0;36msec13FChanges\u001b[0;34m(self, ticker, date, owner, period)\u001b[0m\n\u001b[1;32m    343\u001b[0m             \u001b[0mprint\u001b[0m\u001b[0;34m(\u001b[0m\u001b[0;34m\"No results found\"\u001b[0m\u001b[0;34m)\u001b[0m\u001b[0;34m\u001b[0m\u001b[0;34m\u001b[0m\u001b[0m\n\u001b[1;32m    344\u001b[0m             \u001b[0;32mreturn\u001b[0m \u001b[0mdf\u001b[0m\u001b[0;34m\u001b[0m\u001b[0;34m\u001b[0m\u001b[0m\n\u001b[0;32m--> 345\u001b[0;31m         \u001b[0mdf\u001b[0m\u001b[0;34m[\u001b[0m\u001b[0;34m\"ReportPeriod\"\u001b[0m\u001b[0;34m]\u001b[0m \u001b[0;34m=\u001b[0m \u001b[0mpd\u001b[0m\u001b[0;34m.\u001b[0m\u001b[0mto_datetime\u001b[0m\u001b[0;34m(\u001b[0m\u001b[0mdf\u001b[0m\u001b[0;34m[\u001b[0m\u001b[0;34m\"ReportPeriod\"\u001b[0m\u001b[0;34m]\u001b[0m\u001b[0;34m,\u001b[0m \u001b[0munit\u001b[0m\u001b[0;34m=\u001b[0m\u001b[0;34m'ms'\u001b[0m\u001b[0;34m)\u001b[0m\u001b[0;34m\u001b[0m\u001b[0;34m\u001b[0m\u001b[0m\n\u001b[0m\u001b[1;32m    346\u001b[0m \u001b[0;31m#         #Can edit this out once we get past May 25th\u001b[0m\u001b[0;34m\u001b[0m\u001b[0;34m\u001b[0m\u001b[0m\n\u001b[1;32m    347\u001b[0m \u001b[0;31m#         values = []\u001b[0m\u001b[0;34m\u001b[0m\u001b[0;34m\u001b[0m\u001b[0m\n",
      "\u001b[0;32m/opt/anaconda3/lib/python3.9/site-packages/pandas/core/tools/datetimes.py\u001b[0m in \u001b[0;36mto_datetime\u001b[0;34m(arg, errors, dayfirst, yearfirst, utc, format, exact, unit, infer_datetime_format, origin, cache)\u001b[0m\n\u001b[1;32m   1045\u001b[0m                 \u001b[0mresult\u001b[0m \u001b[0;34m=\u001b[0m \u001b[0marg\u001b[0m\u001b[0;34m.\u001b[0m\u001b[0mtz_localize\u001b[0m\u001b[0;34m(\u001b[0m\u001b[0mtz\u001b[0m\u001b[0;34m)\u001b[0m\u001b[0;34m\u001b[0m\u001b[0;34m\u001b[0m\u001b[0m\n\u001b[1;32m   1046\u001b[0m     \u001b[0;32melif\u001b[0m \u001b[0misinstance\u001b[0m\u001b[0;34m(\u001b[0m\u001b[0marg\u001b[0m\u001b[0;34m,\u001b[0m \u001b[0mABCSeries\u001b[0m\u001b[0;34m)\u001b[0m\u001b[0;34m:\u001b[0m\u001b[0;34m\u001b[0m\u001b[0;34m\u001b[0m\u001b[0m\n\u001b[0;32m-> 1047\u001b[0;31m         \u001b[0mcache_array\u001b[0m \u001b[0;34m=\u001b[0m \u001b[0m_maybe_cache\u001b[0m\u001b[0;34m(\u001b[0m\u001b[0marg\u001b[0m\u001b[0;34m,\u001b[0m \u001b[0mformat\u001b[0m\u001b[0;34m,\u001b[0m \u001b[0mcache\u001b[0m\u001b[0;34m,\u001b[0m \u001b[0mconvert_listlike\u001b[0m\u001b[0;34m)\u001b[0m\u001b[0;34m\u001b[0m\u001b[0;34m\u001b[0m\u001b[0m\n\u001b[0m\u001b[1;32m   1048\u001b[0m         \u001b[0;32mif\u001b[0m \u001b[0;32mnot\u001b[0m \u001b[0mcache_array\u001b[0m\u001b[0;34m.\u001b[0m\u001b[0mempty\u001b[0m\u001b[0;34m:\u001b[0m\u001b[0;34m\u001b[0m\u001b[0;34m\u001b[0m\u001b[0m\n\u001b[1;32m   1049\u001b[0m             \u001b[0mresult\u001b[0m \u001b[0;34m=\u001b[0m \u001b[0marg\u001b[0m\u001b[0;34m.\u001b[0m\u001b[0mmap\u001b[0m\u001b[0;34m(\u001b[0m\u001b[0mcache_array\u001b[0m\u001b[0;34m)\u001b[0m\u001b[0;34m\u001b[0m\u001b[0;34m\u001b[0m\u001b[0m\n",
      "\u001b[0;32m/opt/anaconda3/lib/python3.9/site-packages/pandas/core/tools/datetimes.py\u001b[0m in \u001b[0;36m_maybe_cache\u001b[0;34m(arg, format, cache, convert_listlike)\u001b[0m\n\u001b[1;32m    195\u001b[0m         \u001b[0munique_dates\u001b[0m \u001b[0;34m=\u001b[0m \u001b[0munique\u001b[0m\u001b[0;34m(\u001b[0m\u001b[0marg\u001b[0m\u001b[0;34m)\u001b[0m\u001b[0;34m\u001b[0m\u001b[0;34m\u001b[0m\u001b[0m\n\u001b[1;32m    196\u001b[0m         \u001b[0;32mif\u001b[0m \u001b[0mlen\u001b[0m\u001b[0;34m(\u001b[0m\u001b[0munique_dates\u001b[0m\u001b[0;34m)\u001b[0m \u001b[0;34m<\u001b[0m \u001b[0mlen\u001b[0m\u001b[0;34m(\u001b[0m\u001b[0marg\u001b[0m\u001b[0;34m)\u001b[0m\u001b[0;34m:\u001b[0m\u001b[0;34m\u001b[0m\u001b[0;34m\u001b[0m\u001b[0m\n\u001b[0;32m--> 197\u001b[0;31m             \u001b[0mcache_dates\u001b[0m \u001b[0;34m=\u001b[0m \u001b[0mconvert_listlike\u001b[0m\u001b[0;34m(\u001b[0m\u001b[0munique_dates\u001b[0m\u001b[0;34m,\u001b[0m \u001b[0mformat\u001b[0m\u001b[0;34m)\u001b[0m\u001b[0;34m\u001b[0m\u001b[0;34m\u001b[0m\u001b[0m\n\u001b[0m\u001b[1;32m    198\u001b[0m             \u001b[0mcache_array\u001b[0m \u001b[0;34m=\u001b[0m \u001b[0mSeries\u001b[0m\u001b[0;34m(\u001b[0m\u001b[0mcache_dates\u001b[0m\u001b[0;34m,\u001b[0m \u001b[0mindex\u001b[0m\u001b[0;34m=\u001b[0m\u001b[0munique_dates\u001b[0m\u001b[0;34m)\u001b[0m\u001b[0;34m\u001b[0m\u001b[0;34m\u001b[0m\u001b[0m\n\u001b[1;32m    199\u001b[0m             \u001b[0;31m# GH#39882 and GH#35888 in case of None and NaT we get duplicates\u001b[0m\u001b[0;34m\u001b[0m\u001b[0;34m\u001b[0m\u001b[0m\n",
      "\u001b[0;32m/opt/anaconda3/lib/python3.9/site-packages/pandas/core/tools/datetimes.py\u001b[0m in \u001b[0;36m_convert_listlike_datetimes\u001b[0;34m(arg, format, name, tz, unit, errors, infer_datetime_format, dayfirst, yearfirst, exact)\u001b[0m\n\u001b[1;32m    355\u001b[0m         \u001b[0;32mif\u001b[0m \u001b[0mformat\u001b[0m \u001b[0;32mis\u001b[0m \u001b[0;32mnot\u001b[0m \u001b[0;32mNone\u001b[0m\u001b[0;34m:\u001b[0m\u001b[0;34m\u001b[0m\u001b[0;34m\u001b[0m\u001b[0m\n\u001b[1;32m    356\u001b[0m             \u001b[0;32mraise\u001b[0m \u001b[0mValueError\u001b[0m\u001b[0;34m(\u001b[0m\u001b[0;34m\"cannot specify both format and unit\"\u001b[0m\u001b[0;34m)\u001b[0m\u001b[0;34m\u001b[0m\u001b[0;34m\u001b[0m\u001b[0m\n\u001b[0;32m--> 357\u001b[0;31m         \u001b[0;32mreturn\u001b[0m \u001b[0m_to_datetime_with_unit\u001b[0m\u001b[0;34m(\u001b[0m\u001b[0marg\u001b[0m\u001b[0;34m,\u001b[0m \u001b[0munit\u001b[0m\u001b[0;34m,\u001b[0m \u001b[0mname\u001b[0m\u001b[0;34m,\u001b[0m \u001b[0mtz\u001b[0m\u001b[0;34m,\u001b[0m \u001b[0merrors\u001b[0m\u001b[0;34m)\u001b[0m\u001b[0;34m\u001b[0m\u001b[0;34m\u001b[0m\u001b[0m\n\u001b[0m\u001b[1;32m    358\u001b[0m     \u001b[0;32melif\u001b[0m \u001b[0mgetattr\u001b[0m\u001b[0;34m(\u001b[0m\u001b[0marg\u001b[0m\u001b[0;34m,\u001b[0m \u001b[0;34m\"ndim\"\u001b[0m\u001b[0;34m,\u001b[0m \u001b[0;36m1\u001b[0m\u001b[0;34m)\u001b[0m \u001b[0;34m>\u001b[0m \u001b[0;36m1\u001b[0m\u001b[0;34m:\u001b[0m\u001b[0;34m\u001b[0m\u001b[0;34m\u001b[0m\u001b[0m\n\u001b[1;32m    359\u001b[0m         raise TypeError(\n",
      "\u001b[0;32m/opt/anaconda3/lib/python3.9/site-packages/pandas/core/tools/datetimes.py\u001b[0m in \u001b[0;36m_to_datetime_with_unit\u001b[0;34m(arg, unit, name, tz, errors)\u001b[0m\n\u001b[1;32m    528\u001b[0m     \u001b[0;32melse\u001b[0m\u001b[0;34m:\u001b[0m\u001b[0;34m\u001b[0m\u001b[0;34m\u001b[0m\u001b[0m\n\u001b[1;32m    529\u001b[0m         \u001b[0marg\u001b[0m \u001b[0;34m=\u001b[0m \u001b[0mnp\u001b[0m\u001b[0;34m.\u001b[0m\u001b[0masarray\u001b[0m\u001b[0;34m(\u001b[0m\u001b[0marg\u001b[0m\u001b[0;34m)\u001b[0m\u001b[0;34m\u001b[0m\u001b[0;34m\u001b[0m\u001b[0m\n\u001b[0;32m--> 530\u001b[0;31m         \u001b[0marr\u001b[0m\u001b[0;34m,\u001b[0m \u001b[0mtz_parsed\u001b[0m \u001b[0;34m=\u001b[0m \u001b[0mtslib\u001b[0m\u001b[0;34m.\u001b[0m\u001b[0marray_with_unit_to_datetime\u001b[0m\u001b[0;34m(\u001b[0m\u001b[0marg\u001b[0m\u001b[0;34m,\u001b[0m \u001b[0munit\u001b[0m\u001b[0;34m,\u001b[0m \u001b[0merrors\u001b[0m\u001b[0;34m=\u001b[0m\u001b[0merrors\u001b[0m\u001b[0;34m)\u001b[0m\u001b[0;34m\u001b[0m\u001b[0;34m\u001b[0m\u001b[0m\n\u001b[0m\u001b[1;32m    531\u001b[0m \u001b[0;34m\u001b[0m\u001b[0m\n\u001b[1;32m    532\u001b[0m     \u001b[0;32mif\u001b[0m \u001b[0merrors\u001b[0m \u001b[0;34m==\u001b[0m \u001b[0;34m\"ignore\"\u001b[0m\u001b[0;34m:\u001b[0m\u001b[0;34m\u001b[0m\u001b[0;34m\u001b[0m\u001b[0m\n",
      "\u001b[0;32m/opt/anaconda3/lib/python3.9/site-packages/pandas/_libs/tslib.pyx\u001b[0m in \u001b[0;36mpandas._libs.tslib.array_with_unit_to_datetime\u001b[0;34m()\u001b[0m\n",
      "\u001b[0;31mValueError\u001b[0m: non convertible value 2023-09-30T00:00:00.000 with the unit 'ms'"
     ]
    }
   ],
   "source": [
    "quiver.sec13FChanges()"
   ]
  }
 ],
 "metadata": {
  "kernelspec": {
   "display_name": "base",
   "language": "python",
   "name": "python3"
  },
  "language_info": {
   "codemirror_mode": {
    "name": "ipython",
    "version": 3
   },
   "file_extension": ".py",
   "mimetype": "text/x-python",
   "name": "python",
   "nbconvert_exporter": "python",
   "pygments_lexer": "ipython3",
   "version": "3.9.13"
  }
 },
 "nbformat": 4,
 "nbformat_minor": 2
}
